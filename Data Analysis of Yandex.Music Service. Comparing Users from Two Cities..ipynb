{
 "cells": [
  {
   "cell_type": "markdown",
   "id": "889aeddb",
   "metadata": {},
   "source": [
    "# Data Analysis of Yandex.Music Service: Comparing Users from Two Cities"
   ]
  },
  {
   "cell_type": "markdown",
   "id": "0027a779",
   "metadata": {},
   "source": [
    "**Research Objective** - Test three hypotheses:\n",
    "1. User activity varies based on the day of the week, and this difference is manifested differently in Moscow and St. Petersburg.\n",
    "2. On Monday mornings, certain genres prevail in Moscow, while different ones prevail in St. Petersburg. Similarly, on Friday evenings, different genres dominate based on the city.\n",
    "3. Moscow and St. Petersburg have distinct genre preferences. Pop music is more frequently listened to in Moscow, while Russian rap is more popular in St. Petersburg."
   ]
  },
  {
   "cell_type": "markdown",
   "id": "45b2495e",
   "metadata": {},
   "source": [
    "The research will be conducted in three **stages:**\n",
    "1. Data overview\n",
    "2. Data preprocessing\n",
    "3. Hypothesis testing"
   ]
  },
  {
   "cell_type": "markdown",
   "id": "3b3eaa45",
   "metadata": {},
   "source": [
    "## Data overview"
   ]
  },
  {
   "cell_type": "code",
   "execution_count": 1,
   "id": "121d2ee4",
   "metadata": {},
   "outputs": [],
   "source": [
    "# Import the pandas library\n",
    "import pandas as pd  "
   ]
  },
  {
   "cell_type": "code",
   "execution_count": 2,
   "id": "dbd4adbe",
   "metadata": {},
   "outputs": [],
   "source": [
    "# Read the data file and store it in the variable df\n",
    "df = pd.read_csv('/datasets/yandex_music_project.csv')"
   ]
  },
  {
   "cell_type": "code",
   "execution_count": 3,
   "id": "7816b98a",
   "metadata": {},
   "outputs": [
    {
     "data": {
      "text/html": [
       "<div>\n",
       "<style scoped>\n",
       "    .dataframe tbody tr th:only-of-type {\n",
       "        vertical-align: middle;\n",
       "    }\n",
       "\n",
       "    .dataframe tbody tr th {\n",
       "        vertical-align: top;\n",
       "    }\n",
       "\n",
       "    .dataframe thead th {\n",
       "        text-align: right;\n",
       "    }\n",
       "</style>\n",
       "<table border=\"1\" class=\"dataframe\">\n",
       "  <thead>\n",
       "    <tr style=\"text-align: right;\">\n",
       "      <th></th>\n",
       "      <th>userID</th>\n",
       "      <th>Track</th>\n",
       "      <th>artist</th>\n",
       "      <th>genre</th>\n",
       "      <th>City</th>\n",
       "      <th>time</th>\n",
       "      <th>Day</th>\n",
       "    </tr>\n",
       "  </thead>\n",
       "  <tbody>\n",
       "    <tr>\n",
       "      <th>0</th>\n",
       "      <td>FFB692EC</td>\n",
       "      <td>Kamigata To Boots</td>\n",
       "      <td>The Mass Missile</td>\n",
       "      <td>rock</td>\n",
       "      <td>Saint-Petersburg</td>\n",
       "      <td>20:28:33</td>\n",
       "      <td>Wednesday</td>\n",
       "    </tr>\n",
       "    <tr>\n",
       "      <th>1</th>\n",
       "      <td>55204538</td>\n",
       "      <td>Delayed Because of Accident</td>\n",
       "      <td>Andreas Rönnberg</td>\n",
       "      <td>rock</td>\n",
       "      <td>Moscow</td>\n",
       "      <td>14:07:09</td>\n",
       "      <td>Friday</td>\n",
       "    </tr>\n",
       "    <tr>\n",
       "      <th>2</th>\n",
       "      <td>20EC38</td>\n",
       "      <td>Funiculì funiculà</td>\n",
       "      <td>Mario Lanza</td>\n",
       "      <td>pop</td>\n",
       "      <td>Saint-Petersburg</td>\n",
       "      <td>20:58:07</td>\n",
       "      <td>Wednesday</td>\n",
       "    </tr>\n",
       "    <tr>\n",
       "      <th>3</th>\n",
       "      <td>A3DD03C9</td>\n",
       "      <td>Dragons in the Sunset</td>\n",
       "      <td>Fire + Ice</td>\n",
       "      <td>folk</td>\n",
       "      <td>Saint-Petersburg</td>\n",
       "      <td>08:37:09</td>\n",
       "      <td>Monday</td>\n",
       "    </tr>\n",
       "    <tr>\n",
       "      <th>4</th>\n",
       "      <td>E2DC1FAE</td>\n",
       "      <td>Soul People</td>\n",
       "      <td>Space Echo</td>\n",
       "      <td>dance</td>\n",
       "      <td>Moscow</td>\n",
       "      <td>08:34:34</td>\n",
       "      <td>Monday</td>\n",
       "    </tr>\n",
       "    <tr>\n",
       "      <th>5</th>\n",
       "      <td>842029A1</td>\n",
       "      <td>Преданная</td>\n",
       "      <td>IMPERVTOR</td>\n",
       "      <td>rusrap</td>\n",
       "      <td>Saint-Petersburg</td>\n",
       "      <td>13:09:41</td>\n",
       "      <td>Friday</td>\n",
       "    </tr>\n",
       "    <tr>\n",
       "      <th>6</th>\n",
       "      <td>4CB90AA5</td>\n",
       "      <td>True</td>\n",
       "      <td>Roman Messer</td>\n",
       "      <td>dance</td>\n",
       "      <td>Moscow</td>\n",
       "      <td>13:00:07</td>\n",
       "      <td>Wednesday</td>\n",
       "    </tr>\n",
       "    <tr>\n",
       "      <th>7</th>\n",
       "      <td>F03E1C1F</td>\n",
       "      <td>Feeling This Way</td>\n",
       "      <td>Polina Griffith</td>\n",
       "      <td>dance</td>\n",
       "      <td>Moscow</td>\n",
       "      <td>20:47:49</td>\n",
       "      <td>Wednesday</td>\n",
       "    </tr>\n",
       "    <tr>\n",
       "      <th>8</th>\n",
       "      <td>8FA1D3BE</td>\n",
       "      <td>И вновь продолжается бой</td>\n",
       "      <td>NaN</td>\n",
       "      <td>ruspop</td>\n",
       "      <td>Moscow</td>\n",
       "      <td>09:17:40</td>\n",
       "      <td>Friday</td>\n",
       "    </tr>\n",
       "    <tr>\n",
       "      <th>9</th>\n",
       "      <td>E772D5C0</td>\n",
       "      <td>Pessimist</td>\n",
       "      <td>NaN</td>\n",
       "      <td>dance</td>\n",
       "      <td>Saint-Petersburg</td>\n",
       "      <td>21:20:49</td>\n",
       "      <td>Wednesday</td>\n",
       "    </tr>\n",
       "  </tbody>\n",
       "</table>\n",
       "</div>"
      ],
      "text/plain": [
       "     userID                        Track            artist   genre  \\\n",
       "0  FFB692EC            Kamigata To Boots  The Mass Missile    rock   \n",
       "1  55204538  Delayed Because of Accident  Andreas Rönnberg    rock   \n",
       "2    20EC38            Funiculì funiculà       Mario Lanza     pop   \n",
       "3  A3DD03C9        Dragons in the Sunset        Fire + Ice    folk   \n",
       "4  E2DC1FAE                  Soul People        Space Echo   dance   \n",
       "5  842029A1                    Преданная         IMPERVTOR  rusrap   \n",
       "6  4CB90AA5                         True      Roman Messer   dance   \n",
       "7  F03E1C1F             Feeling This Way   Polina Griffith   dance   \n",
       "8  8FA1D3BE     И вновь продолжается бой               NaN  ruspop   \n",
       "9  E772D5C0                    Pessimist               NaN   dance   \n",
       "\n",
       "             City        time        Day  \n",
       "0  Saint-Petersburg  20:28:33  Wednesday  \n",
       "1            Moscow  14:07:09     Friday  \n",
       "2  Saint-Petersburg  20:58:07  Wednesday  \n",
       "3  Saint-Petersburg  08:37:09     Monday  \n",
       "4            Moscow  08:34:34     Monday  \n",
       "5  Saint-Petersburg  13:09:41     Friday  \n",
       "6            Moscow  13:00:07  Wednesday  \n",
       "7            Moscow  20:47:49  Wednesday  \n",
       "8            Moscow  09:17:40     Friday  \n",
       "9  Saint-Petersburg  21:20:49  Wednesday  "
      ]
     },
     "execution_count": 3,
     "metadata": {},
     "output_type": "execute_result"
    }
   ],
   "source": [
    "# Get the first 10 rows of the df table\n",
    "df.head(10)  "
   ]
  },
  {
   "cell_type": "code",
   "execution_count": 4,
   "id": "fb49e4fd",
   "metadata": {},
   "outputs": [
    {
     "name": "stdout",
     "output_type": "stream",
     "text": [
      "<class 'pandas.core.frame.DataFrame'>\n",
      "RangeIndex: 65079 entries, 0 to 65078\n",
      "Data columns (total 7 columns):\n",
      " #   Column    Non-Null Count  Dtype \n",
      "---  ------    --------------  ----- \n",
      " 0     userID  65079 non-null  object\n",
      " 1   Track     63848 non-null  object\n",
      " 2   artist    57876 non-null  object\n",
      " 3   genre     63881 non-null  object\n",
      " 4     City    65079 non-null  object\n",
      " 5   time      65079 non-null  object\n",
      " 6   Day       65079 non-null  object\n",
      "dtypes: object(7)\n",
      "memory usage: 3.5+ MB\n"
     ]
    }
   ],
   "source": [
    "# Get general information about the data in the df table\n",
    "df.info()  "
   ]
  },
  {
   "cell_type": "markdown",
   "id": "83dff73a",
   "metadata": {},
   "source": [
    "So, the table consists of seven columns. The data type in all columns is `object`.\n",
    "\n",
    "According to the documentation for the data:\n",
    "* `userID` - user identifier;\n",
    "* `Track` - track name;\n",
    "* `artist` - artist's name;\n",
    "* `genre` - genre name;\n",
    "* `City` - user's city;\n",
    "* `time` - start time of playback;\n",
    "* `Day` - day of the week.\n",
    "\n",
    "The number of values in the columns varies, which indicates that there are missing values in the data."
   ]
  },
  {
   "cell_type": "markdown",
   "id": "ef66f994",
   "metadata": {},
   "source": [
    "Each row in the table contains data about a played track. Some columns describe the composition itself: the track's name, artist, and genre. The other data provides information about the user: their city and the time of music playback.\n",
    "\n",
    "Preliminarily, it can be asserted that there is sufficient data to test the hypotheses. However, there are missing values in the data, and the column names have inconsistencies with good style.\n",
    "\n",
    "To proceed further, it's necessary to address the data issues."
   ]
  },
  {
   "cell_type": "markdown",
   "id": "5430fc70",
   "metadata": {},
   "source": [
    "## Data preprocessing"
   ]
  },
  {
   "cell_type": "markdown",
   "id": "ab6a6520",
   "metadata": {},
   "source": [
    "### Header Style"
   ]
  },
  {
   "cell_type": "code",
   "execution_count": 5,
   "id": "a2ce5b65",
   "metadata": {},
   "outputs": [
    {
     "data": {
      "text/plain": [
       "Index(['  userID', 'Track', 'artist', 'genre', '  City  ', 'time', 'Day'], dtype='object')"
      ]
     },
     "execution_count": 5,
     "metadata": {},
     "output_type": "execute_result"
    }
   ],
   "source": [
    "# List of column names in the df table\n",
    "df.columns"
   ]
  },
  {
   "cell_type": "code",
   "execution_count": 6,
   "id": "14d8b9da",
   "metadata": {},
   "outputs": [],
   "source": [
    "# Renaming Columns\n",
    "df = df.rename(columns={\n",
    "    '  userID': 'user_id',\n",
    "    'Track': 'track',\n",
    "    '  City  ': 'city',\n",
    "    'Day': 'day'\n",
    "}) "
   ]
  },
  {
   "cell_type": "markdown",
   "id": "bfd62951",
   "metadata": {},
   "source": [
    "### Missing Values"
   ]
  },
  {
   "cell_type": "code",
   "execution_count": 7,
   "id": "a2914ba8",
   "metadata": {},
   "outputs": [
    {
     "data": {
      "text/plain": [
       "user_id       0\n",
       "track      1231\n",
       "artist     7203\n",
       "genre      1198\n",
       "city          0\n",
       "time          0\n",
       "day           0\n",
       "dtype: int64"
      ]
     },
     "execution_count": 7,
     "metadata": {},
     "output_type": "execute_result"
    }
   ],
   "source": [
    "# Counting missing values\n",
    "df.isna().sum()"
   ]
  },
  {
   "cell_type": "markdown",
   "id": "f25ffca0",
   "metadata": {},
   "source": [
    "Not all missing values affect the research. For example, missing values in the `track` and `artist` columns might not be important for your analysis. It would be sufficient to replace them with explicit labels.\n",
    "\n",
    "However, missing values in the `genre` column could hinder the comparison of musical preferences between Moscow and St. Petersburg. In practice, it would be best to determine the reasons for these missing values and attempt to restore the data. Unfortunately, in an educational project, we might not have this opportunity. We'll need to:\n",
    "\n",
    "1. Fill these missing values with explicit labels.\n",
    "2. Evaluate how much they might affect your calculations."
   ]
  },
  {
   "cell_type": "code",
   "execution_count": 8,
   "id": "f16ab9bc",
   "metadata": {},
   "outputs": [],
   "source": [
    "# List of columns where values need to be replaced\n",
    "columns_to_replace = ['track', 'artist', 'genre'] \n",
    "\n",
    "# Loop through columns and replace missing values with 'unknown'\n",
    "for column in columns_to_replace:\n",
    "    df[column] = df[column].fillna('unknown')  "
   ]
  },
  {
   "cell_type": "code",
   "execution_count": 9,
   "id": "797c6dfa",
   "metadata": {},
   "outputs": [
    {
     "data": {
      "text/plain": [
       "user_id    0\n",
       "track      0\n",
       "artist     0\n",
       "genre      0\n",
       "city       0\n",
       "time       0\n",
       "day        0\n",
       "dtype: int64"
      ]
     },
     "execution_count": 9,
     "metadata": {},
     "output_type": "execute_result"
    }
   ],
   "source": [
    "# Counting missing values \n",
    "df.isna().sum()"
   ]
  },
  {
   "cell_type": "markdown",
   "id": "7a37ff04",
   "metadata": {},
   "source": [
    "### Duplicates"
   ]
  },
  {
   "cell_type": "code",
   "execution_count": 10,
   "id": "d4a0023b",
   "metadata": {},
   "outputs": [
    {
     "data": {
      "text/plain": [
       "3826"
      ]
     },
     "execution_count": 10,
     "metadata": {},
     "output_type": "execute_result"
    }
   ],
   "source": [
    "# Counting explicit duplicates\n",
    "df.duplicated().sum()  "
   ]
  },
  {
   "cell_type": "code",
   "execution_count": 11,
   "id": "81024b82",
   "metadata": {},
   "outputs": [
    {
     "data": {
      "text/plain": [
       "0"
      ]
     },
     "execution_count": 11,
     "metadata": {},
     "output_type": "execute_result"
    }
   ],
   "source": [
    "# Removing explicit duplicates\n",
    "df = df.drop_duplicates()\n",
    "\n",
    "# Checking for the absence of duplicates\n",
    "df.duplicated().sum()  "
   ]
  },
  {
   "cell_type": "code",
   "execution_count": 12,
   "id": "ee83086d",
   "metadata": {},
   "outputs": [
    {
     "name": "stdout",
     "output_type": "stream",
     "text": [
      "['acid' 'acoustic' 'action' 'adult' 'africa' 'afrikaans' 'alternative'\n",
      " 'alternativepunk' 'ambient' 'americana' 'animated' 'anime' 'arabesk'\n",
      " 'arabic' 'arena' 'argentinetango' 'art' 'audiobook' 'author' 'avantgarde'\n",
      " 'axé' 'baile' 'balkan' 'beats' 'bigroom' 'black' 'bluegrass' 'blues'\n",
      " 'bollywood' 'bossa' 'brazilian' 'breakbeat' 'breaks' 'broadway'\n",
      " 'cantautori' 'cantopop' 'canzone' 'caribbean' 'caucasian' 'celtic'\n",
      " 'chamber' 'chanson' 'children' 'chill' 'chinese' 'choral' 'christian'\n",
      " 'christmas' 'classical' 'classicmetal' 'club' 'colombian' 'comedy'\n",
      " 'conjazz' 'contemporary' 'country' 'cuban' 'dance' 'dancehall' 'dancepop'\n",
      " 'dark' 'death' 'deep' 'deutschrock' 'deutschspr' 'dirty' 'disco' 'dnb'\n",
      " 'documentary' 'downbeat' 'downtempo' 'drum' 'dub' 'dubstep' 'eastern'\n",
      " 'easy' 'electronic' 'electropop' 'emo' 'entehno' 'epicmetal' 'estrada'\n",
      " 'ethnic' 'eurofolk' 'european' 'experimental' 'extrememetal' 'fado'\n",
      " 'fairytail' 'film' 'fitness' 'flamenco' 'folk' 'folklore' 'folkmetal'\n",
      " 'folkrock' 'folktronica' 'forró' 'frankreich' 'französisch' 'french'\n",
      " 'funk' 'future' 'gangsta' 'garage' 'german' 'ghazal' 'gitarre' 'glitch'\n",
      " 'gospel' 'gothic' 'grime' 'grunge' 'gypsy' 'handsup' \"hard'n'heavy\"\n",
      " 'hardcore' 'hardstyle' 'hardtechno' 'hip' 'hip-hop' 'hiphop' 'historisch'\n",
      " 'holiday' 'hop' 'horror' 'house' 'hymn' 'idm' 'independent' 'indian'\n",
      " 'indie' 'indipop' 'industrial' 'inspirational' 'instrumental'\n",
      " 'international' 'irish' 'jam' 'japanese' 'jazz' 'jewish' 'jpop' 'jungle'\n",
      " 'k-pop' 'karadeniz' 'karaoke' 'kayokyoku' 'korean' 'laiko' 'latin'\n",
      " 'latino' 'leftfield' 'local' 'lounge' 'loungeelectronic' 'lovers'\n",
      " 'malaysian' 'mandopop' 'marschmusik' 'meditative' 'mediterranean'\n",
      " 'melodic' 'metal' 'metalcore' 'mexican' 'middle' 'minimal'\n",
      " 'miscellaneous' 'modern' 'mood' 'mpb' 'muslim' 'native' 'neoklassik'\n",
      " 'neue' 'new' 'newage' 'newwave' 'nu' 'nujazz' 'numetal' 'oceania' 'old'\n",
      " 'opera' 'orchestral' 'other' 'piano' 'podcasts' 'pop' 'popdance'\n",
      " 'popelectronic' 'popeurodance' 'poprussian' 'post' 'posthardcore'\n",
      " 'postrock' 'power' 'progmetal' 'progressive' 'psychedelic' 'punjabi'\n",
      " 'punk' 'quebecois' 'ragga' 'ram' 'rancheras' 'rap' 'rave' 'reggae'\n",
      " 'reggaeton' 'regional' 'relax' 'religious' 'retro' 'rhythm' 'rnb' 'rnr'\n",
      " 'rock' 'rockabilly' 'rockalternative' 'rockindie' 'rockother' 'romance'\n",
      " 'roots' 'ruspop' 'rusrap' 'rusrock' 'russian' 'salsa' 'samba' 'scenic'\n",
      " 'schlager' 'self' 'sertanejo' 'shanson' 'shoegazing' 'showtunes' 'singer'\n",
      " 'ska' 'skarock' 'slow' 'smooth' 'soft' 'soul' 'soulful' 'sound'\n",
      " 'soundtrack' 'southern' 'specialty' 'speech' 'spiritual' 'sport'\n",
      " 'stonerrock' 'surf' 'swing' 'synthpop' 'synthrock' 'sängerportrait'\n",
      " 'tango' 'tanzorchester' 'taraftar' 'tatar' 'tech' 'techno' 'teen'\n",
      " 'thrash' 'top' 'traditional' 'tradjazz' 'trance' 'tribal' 'trip'\n",
      " 'triphop' 'tropical' 'türk' 'türkçe' 'ukrrock' 'unknown' 'urban' 'uzbek'\n",
      " 'variété' 'vi' 'videogame' 'vocal' 'western' 'world' 'worldbeat' 'ïîï'\n",
      " 'электроника']\n"
     ]
    }
   ],
   "source": [
    "# Viewing unique genre names\n",
    "print(df['genre'].sort_values(ascending=True).unique())  \n"
   ]
  },
  {
   "cell_type": "code",
   "execution_count": 13,
   "id": "572a081e",
   "metadata": {},
   "outputs": [
    {
     "name": "stdout",
     "output_type": "stream",
     "text": [
      "['acid' 'acoustic' 'action' 'adult' 'africa' 'afrikaans' 'alternative'\n",
      " 'alternativepunk' 'ambient' 'americana' 'animated' 'anime' 'arabesk'\n",
      " 'arabic' 'arena' 'argentinetango' 'art' 'audiobook' 'author' 'avantgarde'\n",
      " 'axé' 'baile' 'balkan' 'beats' 'bigroom' 'black' 'bluegrass' 'blues'\n",
      " 'bollywood' 'bossa' 'brazilian' 'breakbeat' 'breaks' 'broadway'\n",
      " 'cantautori' 'cantopop' 'canzone' 'caribbean' 'caucasian' 'celtic'\n",
      " 'chamber' 'chanson' 'children' 'chill' 'chinese' 'choral' 'christian'\n",
      " 'christmas' 'classical' 'classicmetal' 'club' 'colombian' 'comedy'\n",
      " 'conjazz' 'contemporary' 'country' 'cuban' 'dance' 'dancehall' 'dancepop'\n",
      " 'dark' 'death' 'deep' 'deutschrock' 'deutschspr' 'dirty' 'disco' 'dnb'\n",
      " 'documentary' 'downbeat' 'downtempo' 'drum' 'dub' 'dubstep' 'eastern'\n",
      " 'easy' 'electronic' 'electropop' 'emo' 'entehno' 'epicmetal' 'estrada'\n",
      " 'ethnic' 'eurofolk' 'european' 'experimental' 'extrememetal' 'fado'\n",
      " 'fairytail' 'film' 'fitness' 'flamenco' 'folk' 'folklore' 'folkmetal'\n",
      " 'folkrock' 'folktronica' 'forró' 'frankreich' 'französisch' 'french'\n",
      " 'funk' 'future' 'gangsta' 'garage' 'german' 'ghazal' 'gitarre' 'glitch'\n",
      " 'gospel' 'gothic' 'grime' 'grunge' 'gypsy' 'handsup' \"hard'n'heavy\"\n",
      " 'hardcore' 'hardstyle' 'hardtechno' 'hiphop' 'historisch' 'holiday'\n",
      " 'horror' 'house' 'hymn' 'idm' 'independent' 'indian' 'indie' 'indipop'\n",
      " 'industrial' 'inspirational' 'instrumental' 'international' 'irish' 'jam'\n",
      " 'japanese' 'jazz' 'jewish' 'jpop' 'jungle' 'k-pop' 'karadeniz' 'karaoke'\n",
      " 'kayokyoku' 'korean' 'laiko' 'latin' 'latino' 'leftfield' 'local'\n",
      " 'lounge' 'loungeelectronic' 'lovers' 'malaysian' 'mandopop' 'marschmusik'\n",
      " 'meditative' 'mediterranean' 'melodic' 'metal' 'metalcore' 'mexican'\n",
      " 'middle' 'minimal' 'miscellaneous' 'modern' 'mood' 'mpb' 'muslim'\n",
      " 'native' 'neoklassik' 'neue' 'new' 'newage' 'newwave' 'nu' 'nujazz'\n",
      " 'numetal' 'oceania' 'old' 'opera' 'orchestral' 'other' 'piano' 'podcasts'\n",
      " 'pop' 'popdance' 'popelectronic' 'popeurodance' 'poprussian' 'post'\n",
      " 'posthardcore' 'postrock' 'power' 'progmetal' 'progressive' 'psychedelic'\n",
      " 'punjabi' 'punk' 'quebecois' 'ragga' 'ram' 'rancheras' 'rap' 'rave'\n",
      " 'reggae' 'reggaeton' 'regional' 'relax' 'religious' 'retro' 'rhythm'\n",
      " 'rnb' 'rnr' 'rock' 'rockabilly' 'rockalternative' 'rockindie' 'rockother'\n",
      " 'romance' 'roots' 'ruspop' 'rusrap' 'rusrock' 'russian' 'salsa' 'samba'\n",
      " 'scenic' 'schlager' 'self' 'sertanejo' 'shanson' 'shoegazing' 'showtunes'\n",
      " 'singer' 'ska' 'skarock' 'slow' 'smooth' 'soft' 'soul' 'soulful' 'sound'\n",
      " 'soundtrack' 'southern' 'specialty' 'speech' 'spiritual' 'sport'\n",
      " 'stonerrock' 'surf' 'swing' 'synthpop' 'synthrock' 'sängerportrait'\n",
      " 'tango' 'tanzorchester' 'taraftar' 'tatar' 'tech' 'techno' 'teen'\n",
      " 'thrash' 'top' 'traditional' 'tradjazz' 'trance' 'tribal' 'trip'\n",
      " 'triphop' 'tropical' 'türk' 'türkçe' 'ukrrock' 'unknown' 'urban' 'uzbek'\n",
      " 'variété' 'vi' 'videogame' 'vocal' 'western' 'world' 'worldbeat' 'ïîï'\n",
      " 'электроника']\n"
     ]
    }
   ],
   "source": [
    "# List of incorrect names\n",
    "duplicates = ['hip', 'hop', 'hip-hop']  \n",
    "\n",
    "# Correct name\n",
    "correct_name = 'hiphop'  \n",
    "\n",
    "df['genre'] = df['genre'].replace(duplicates, correct_name)\n",
    "\n",
    "# Checking for implicit duplicates\n",
    "print(df['genre'].sort_values(ascending=True).unique())  "
   ]
  },
  {
   "cell_type": "markdown",
   "id": "e5d55fea",
   "metadata": {},
   "source": [
    "Data preprocessing has identified three issues in the data:\n",
    "\n",
    "1. Inconsistent header style.\n",
    "2. Missing values.\n",
    "3. Explicit and implicit duplicates.\n",
    "\n",
    "We have rectified the header style to streamline working with the table. Without duplicates, the research will become more accurate.\n",
    "\n",
    "We replaced missing values with 'unknown'. The impact of missing values in the 'genre' column on the research still needs to be assessed.\n",
    "\n",
    "Now we can proceed with hypothesis testing."
   ]
  },
  {
   "cell_type": "markdown",
   "id": "bcf20faa",
   "metadata": {},
   "source": [
    "## Hypothesis testing"
   ]
  },
  {
   "cell_type": "markdown",
   "id": "700f8934",
   "metadata": {},
   "source": [
    "### Comparing User Behavior in Two Capitals"
   ]
  },
  {
   "cell_type": "markdown",
   "id": "00475971",
   "metadata": {},
   "source": [
    "The first hypothesis states that users listen to music differently in Moscow and St. Petersburg. Let's test this assumption based on data for three days of the week: Monday, Wednesday, and Friday. To do this:\n",
    "\n",
    "1. Separate users from Moscow and St. Petersburg.\n",
    "2. Compare the number of tracks listened to by each group of users on Monday, Wednesday, and Friday."
   ]
  },
  {
   "cell_type": "code",
   "execution_count": 14,
   "id": "749dd09c",
   "metadata": {},
   "outputs": [
    {
     "name": "stdout",
     "output_type": "stream",
     "text": [
      "city\n",
      "Moscow              42741\n",
      "Saint-Petersburg    18512\n",
      "Name: time, dtype: int64\n"
     ]
    }
   ],
   "source": [
    "# Counting listens in each city\n",
    "print(df.groupby('city')['time'].count())  "
   ]
  },
  {
   "cell_type": "markdown",
   "id": "31d417e0",
   "metadata": {},
   "source": [
    "In Moscow, there are more listens than in St. Petersburg. However, this doesn't necessarily mean that Moscow users listen to music more frequently. It's simply that there are more users in Moscow."
   ]
  },
  {
   "cell_type": "code",
   "execution_count": 15,
   "id": "d5973d82",
   "metadata": {},
   "outputs": [
    {
     "name": "stdout",
     "output_type": "stream",
     "text": [
      "day\n",
      "Friday       21840\n",
      "Monday       21354\n",
      "Wednesday    18059\n",
      "Name: time, dtype: int64\n"
     ]
    }
   ],
   "source": [
    "# Counting listens for each of the three days\n",
    "print(df.groupby('day')['time'].count())  "
   ]
  },
  {
   "cell_type": "markdown",
   "id": "63b77306",
   "metadata": {},
   "source": [
    "On average, users from both cities are less active on Wednesdays. However, the picture might change if we examine each city separately."
   ]
  },
  {
   "cell_type": "code",
   "execution_count": 16,
   "id": "a3cffb65",
   "metadata": {},
   "outputs": [],
   "source": [
    "# Function for counting listens for a specific city and day.\n",
    "# By applying sequential filtering with logical indexing, \n",
    "# this function first extracts rows with the desired day from the original table. \n",
    "# Then, it further filters rows based on the desired city. \n",
    "# Using the `count()` method, it calculates the number of values in the `user_id` column. \n",
    "# The function returns this count as a result:\n",
    "\n",
    "def number_tracks(day, city):\n",
    "    track_list = df[df['day'] == day]\n",
    "    track_list = track_list[track_list['city'] == city]\n",
    "    track_list_count = track_list['user_id'].count()\n",
    "    return track_list_count"
   ]
  },
  {
   "cell_type": "code",
   "execution_count": 17,
   "id": "2e94e8d7",
   "metadata": {},
   "outputs": [
    {
     "data": {
      "text/plain": [
       "15740"
      ]
     },
     "execution_count": 17,
     "metadata": {},
     "output_type": "execute_result"
    }
   ],
   "source": [
    "# Number of listens in Moscow on Mondays\n",
    "number_tracks('Monday', 'Moscow')  "
   ]
  },
  {
   "cell_type": "code",
   "execution_count": 18,
   "id": "988e9cf0",
   "metadata": {},
   "outputs": [
    {
     "data": {
      "text/plain": [
       "5614"
      ]
     },
     "execution_count": 18,
     "metadata": {},
     "output_type": "execute_result"
    }
   ],
   "source": [
    "# Number of listens in St. Petersburg on Mondays\n",
    "number_tracks('Monday', 'Saint-Petersburg')  "
   ]
  },
  {
   "cell_type": "code",
   "execution_count": 19,
   "id": "ab850c52",
   "metadata": {},
   "outputs": [
    {
     "data": {
      "text/plain": [
       "11056"
      ]
     },
     "execution_count": 19,
     "metadata": {},
     "output_type": "execute_result"
    }
   ],
   "source": [
    "# Number of listens in Moscow on Wednesdays\n",
    "number_tracks('Wednesday', 'Moscow')  "
   ]
  },
  {
   "cell_type": "code",
   "execution_count": 20,
   "id": "79b34604",
   "metadata": {},
   "outputs": [
    {
     "data": {
      "text/plain": [
       "7003"
      ]
     },
     "execution_count": 20,
     "metadata": {},
     "output_type": "execute_result"
    }
   ],
   "source": [
    "# Number of listens in St. Petersburg on Wednesdays\n",
    "number_tracks('Wednesday', 'Saint-Petersburg')  "
   ]
  },
  {
   "cell_type": "code",
   "execution_count": 21,
   "id": "c9944060",
   "metadata": {},
   "outputs": [
    {
     "data": {
      "text/plain": [
       "15945"
      ]
     },
     "execution_count": 21,
     "metadata": {},
     "output_type": "execute_result"
    }
   ],
   "source": [
    "# Number of listens in Moscow on Fridays\n",
    "number_tracks('Friday', 'Moscow') "
   ]
  },
  {
   "cell_type": "code",
   "execution_count": 22,
   "id": "0921567c",
   "metadata": {},
   "outputs": [
    {
     "data": {
      "text/plain": [
       "5895"
      ]
     },
     "execution_count": 22,
     "metadata": {},
     "output_type": "execute_result"
    }
   ],
   "source": [
    "# Number of listens in St. Petersburg on Fridays\n",
    "number_tracks('Friday', 'Saint-Petersburg')  "
   ]
  },
  {
   "cell_type": "code",
   "execution_count": 23,
   "id": "aaae3241",
   "metadata": {},
   "outputs": [
    {
     "name": "stdout",
     "output_type": "stream",
     "text": [
      "               city  monday  wednesday  friday\n",
      "0            Moscow   15740      11056   15945\n",
      "1  Saint-Petersburg    5614       7003    5895\n"
     ]
    }
   ],
   "source": [
    "# Table with results\n",
    "info = pd.DataFrame(data=[\n",
    "    ['Moscow', 15740, 11056, 15945],\n",
    "    ['Saint-Petersburg', 5614, 7003, 5895]\n",
    "], columns=['city', 'monday', 'wednesday', 'friday']) \n",
    "print(info)"
   ]
  },
  {
   "cell_type": "markdown",
   "id": "56defca8",
   "metadata": {},
   "source": [
    "The data reveal differences in user behavior:\n",
    "\n",
    "1) In Moscow, the peak of listens is on Monday and Friday, while there is a noticeable decline on Wednesday.\n",
    "\n",
    "2) In St. Petersburg, on the contrary, more music is listened to on Wednesdays.\n",
    "\n",
    "3) Activity on Monday and Friday is almost equally subdued compared to Wednesday.\n",
    "\n",
    "This **supports the first hypothesis.**"
   ]
  },
  {
   "cell_type": "markdown",
   "id": "62905e06",
   "metadata": {},
   "source": [
    "### Music at the Beginning and End of the Week"
   ]
  },
  {
   "cell_type": "markdown",
   "id": "b2321c38",
   "metadata": {},
   "source": [
    "According to the second hypothesis, in Moscow, different genres prevail on Monday mornings compared to St. Petersburg. Similarly, in the evenings of Fridays, different genres dominate, depending on the city."
   ]
  },
  {
   "cell_type": "code",
   "execution_count": 24,
   "id": "2105e274",
   "metadata": {},
   "outputs": [],
   "source": [
    "# Creating the moscow_general table from rows in the df table\n",
    "# where the value in the 'city' column is 'Moscow'\n",
    "moscow_general = df[df['city'] == 'Moscow']\n",
    "\n",
    "# Creating the spb_general table from rows in the df table\n",
    "# where the value in the 'city' column is 'Saint-Petersburg'\n",
    "spb_general = df[df['city'] == 'Saint-Petersburg']  "
   ]
  },
  {
   "cell_type": "code",
   "execution_count": 25,
   "id": "6bc75511",
   "metadata": {},
   "outputs": [],
   "source": [
    "# This function filters the DataFrame based on the specified day and time range, \n",
    "# groups the filtered DataFrame by genre, counts the occurrences of each genre, \n",
    "# sorts the results in descending order, and returns the top 10 genres for the \n",
    "# specified time range on the specified day.\n",
    "\n",
    "def genre_weekday(df, day, time1, time2):\n",
    "    genre_df = df[df['day'] == day]\n",
    "    genre_df = genre_df[genre_df['time'] > time1]\n",
    "    genre_df = genre_df[genre_df['time'] < time2]\n",
    "    genre_df_grouped = genre_df.groupby(['genre'])['genre'].count()\n",
    "    genre_df_sorted = genre_df_grouped.sort_values(ascending=False)\n",
    "    return genre_df_sorted[:10]"
   ]
  },
  {
   "cell_type": "code",
   "execution_count": 26,
   "id": "fd578abf",
   "metadata": {},
   "outputs": [
    {
     "name": "stdout",
     "output_type": "stream",
     "text": [
      "genre\n",
      "pop            781\n",
      "dance          549\n",
      "electronic     480\n",
      "rock           474\n",
      "hiphop         286\n",
      "ruspop         186\n",
      "world          181\n",
      "rusrap         175\n",
      "alternative    164\n",
      "unknown        161\n",
      "Name: genre, dtype: int64\n"
     ]
    }
   ],
   "source": [
    "# Calling the function for Monday morning in Moscow\n",
    "print(genre_weekday(moscow_general, 'Monday', '07:00', '11:00'))"
   ]
  },
  {
   "cell_type": "code",
   "execution_count": 27,
   "id": "58928ee8",
   "metadata": {},
   "outputs": [
    {
     "name": "stdout",
     "output_type": "stream",
     "text": [
      "genre\n",
      "pop            218\n",
      "dance          182\n",
      "rock           162\n",
      "electronic     147\n",
      "hiphop          80\n",
      "ruspop          64\n",
      "alternative     58\n",
      "rusrap          55\n",
      "jazz            44\n",
      "classical       40\n",
      "Name: genre, dtype: int64\n"
     ]
    }
   ],
   "source": [
    "# Calling the function for Monday morning in St. Petersburg\n",
    "print(genre_weekday(spb_general, 'Monday', '07:00', '11:00'))"
   ]
  },
  {
   "cell_type": "code",
   "execution_count": 28,
   "id": "08077b14",
   "metadata": {},
   "outputs": [
    {
     "name": "stdout",
     "output_type": "stream",
     "text": [
      "genre\n",
      "pop            713\n",
      "rock           517\n",
      "dance          495\n",
      "electronic     482\n",
      "hiphop         273\n",
      "world          208\n",
      "ruspop         170\n",
      "alternative    163\n",
      "classical      163\n",
      "rusrap         142\n",
      "Name: genre, dtype: int64\n"
     ]
    }
   ],
   "source": [
    "# Calling the function for Friday evening in Moscow\n",
    "print(genre_weekday(moscow_general, 'Friday', '17:00', '23:00'))"
   ]
  },
  {
   "cell_type": "code",
   "execution_count": 29,
   "id": "2c178f80",
   "metadata": {},
   "outputs": [
    {
     "name": "stdout",
     "output_type": "stream",
     "text": [
      "genre\n",
      "pop            256\n",
      "electronic     216\n",
      "rock           216\n",
      "dance          210\n",
      "hiphop          97\n",
      "alternative     63\n",
      "jazz            61\n",
      "classical       60\n",
      "rusrap          59\n",
      "world           54\n",
      "Name: genre, dtype: int64\n"
     ]
    }
   ],
   "source": [
    "# Calling the function for Friday evening in St. Petersburg\n",
    "print(genre_weekday(spb_general, 'Friday', '17:00', '23:00'))"
   ]
  },
  {
   "cell_type": "markdown",
   "id": "22bf08a2",
   "metadata": {},
   "source": [
    "Conclusions\n",
    "\n",
    "Comparing the top 10 genres on Monday morning, the following conclusions can be drawn:\n",
    "\n",
    "1. Moscow and St. Petersburg listen to similar music. The only difference is that the \"world\" genre is included in the Moscow ranking, while jazz and classical music are included in the St. Petersburg ranking.\n",
    "\n",
    "2. In Moscow, there are so many missing values that the 'unknown' value took the tenth place among the most popular genres. This indicates that missing values constitute a significant portion of the data and threaten the reliability of the research.\n",
    "\n",
    "3. Friday evening does not alter this picture significantly. Some genres rise slightly, while others drop, but the overall top 10 remains the same.\n",
    "\n",
    "Thus, the **second hypothesis is only partially confirmed:**\n",
    "\n",
    "- Users listen to similar music at the beginning and end of the week.\n",
    "- The difference between Moscow and St. Petersburg is not very pronounced. Moscow users listen to more Russian pop music, while jazz is more popular in St. Petersburg.\n",
    "\n",
    "However, the presence of missing values casts doubt on this result. In Moscow, there are so many missing values that the top 10 ranking could have looked different if genre data were not lost."
   ]
  },
  {
   "cell_type": "markdown",
   "id": "1fa038c7",
   "metadata": {},
   "source": [
    "### Genre preferences in Moscow and St. Petersburg"
   ]
  },
  {
   "cell_type": "markdown",
   "id": "542419b4",
   "metadata": {},
   "source": [
    "Hypothesis: St. Petersburg is the capital of rap, with a higher frequency of rap music consumption compared to Moscow. Meanwhile, Moscow is a city of contrasts where pop music predominates despite that."
   ]
  },
  {
   "cell_type": "code",
   "execution_count": 30,
   "id": "ce5ef2d5",
   "metadata": {},
   "outputs": [],
   "source": [
    "# This code groups the `moscow_general` table by the 'genre' column, \n",
    "# counts the occurrences of each genre, sorts them in descending order \n",
    "# (highest count first), and stores the result in the `moscow_genres` table.\n",
    "\n",
    "moscow_genres = moscow_general.groupby('genre')['genre'].count().sort_values(ascending=False)"
   ]
  },
  {
   "cell_type": "code",
   "execution_count": 31,
   "id": "fa684221",
   "metadata": {},
   "outputs": [
    {
     "name": "stdout",
     "output_type": "stream",
     "text": [
      "genre\n",
      "pop            5892\n",
      "dance          4435\n",
      "rock           3965\n",
      "electronic     3786\n",
      "hiphop         2096\n",
      "classical      1616\n",
      "world          1432\n",
      "alternative    1379\n",
      "ruspop         1372\n",
      "rusrap         1161\n",
      "Name: genre, dtype: int64\n"
     ]
    }
   ],
   "source": [
    "# Viewing the first 10 rows of moscow_genres\n",
    "print(moscow_genres.head(10))  "
   ]
  },
  {
   "cell_type": "code",
   "execution_count": 32,
   "id": "bad17a2d",
   "metadata": {},
   "outputs": [
    {
     "name": "stdout",
     "output_type": "stream",
     "text": [
      "genre\n",
      "pop            2431\n",
      "dance          1932\n",
      "rock           1879\n",
      "electronic     1736\n",
      "hiphop          960\n",
      "alternative     649\n",
      "classical       646\n",
      "rusrap          564\n",
      "ruspop          538\n",
      "world           515\n",
      "Name: genre, dtype: int64\n"
     ]
    }
   ],
   "source": [
    "spb_genres = spb_general.groupby('genre')['genre'].count().sort_values(ascending=False)\n",
    "\n",
    "# Viewing the top 10 genres in St. Petersburg\n",
    "print(spb_genres.head(10))  "
   ]
  },
  {
   "cell_type": "markdown",
   "id": "77f1e8dc",
   "metadata": {},
   "source": [
    "**The hypothesis has been partially confirmed:**\n",
    "\n",
    "Pop music is the most popular genre in Moscow, as the hypothesis suggested. Furthermore, a closely related genre, Russian pop music, is also present in the top 10 genres.\n",
    "Contrary to expectations, rap is equally popular in both Moscow and St. Petersburg."
   ]
  },
  {
   "cell_type": "markdown",
   "id": "6402651c",
   "metadata": {},
   "source": [
    "## Research Summary\n",
    "\n",
    "In this study, we explored various aspects of user behavior and musical preferences in Moscow and St. Petersburg. By analyzing the data and testing hypotheses, we gained valuable insights into the following key findings:\n",
    "\n",
    "1. **Day-of-the-Week Impact**: Our first hypothesis was confirmed as we observed distinct variations in user activity based on the day of the week. The two cities exhibited different patterns of user engagement, suggesting varying lifestyles or cultural trends.\n",
    "\n",
    "2. **Consistency in Musical Preferences**: The second hypothesis, partially confirmed, highlighted that musical preferences generally remain consistent throughout the week. While slight differences were observed on Mondays—where \"world\" music gained popularity in Moscow and jazz/classical in St. Petersburg—the overall patterns were similar between the two cities.\n",
    "\n",
    "3. **Shared Musical Tastes**: Contrary to initial expectations, the third hypothesis demonstrated that the musical genre preferences of Moscow and St. Petersburg users are more similar than different. Although minor variations might exist, they are not significant enough to draw clear distinctions in the preferences of the majority of users.\n",
    "\n",
    "In conclusion, this research sheds light on the dynamic interplay between user behavior, musical preferences, and urban culture in Moscow and St. Petersburg. The findings provide valuable insights for further studies in understanding the socio-cultural factors influencing user choices in these cities and beyond."
   ]
  },
  {
   "cell_type": "code",
   "execution_count": null,
   "id": "070c6477",
   "metadata": {},
   "outputs": [],
   "source": []
  }
 ],
 "metadata": {
  "kernelspec": {
   "display_name": "Python 3 (ipykernel)",
   "language": "python",
   "name": "python3"
  },
  "language_info": {
   "codemirror_mode": {
    "name": "ipython",
    "version": 3
   },
   "file_extension": ".py",
   "mimetype": "text/x-python",
   "name": "python",
   "nbconvert_exporter": "python",
   "pygments_lexer": "ipython3",
   "version": "3.11.3"
  }
 },
 "nbformat": 4,
 "nbformat_minor": 5
}
