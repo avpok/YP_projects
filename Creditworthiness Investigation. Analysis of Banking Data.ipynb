{
 "cells": [
  {
   "cell_type": "markdown",
   "id": "b63128d7",
   "metadata": {},
   "source": [
    "# Creditworthiness Investigation – Analysis of Banking Data"
   ]
  },
  {
   "cell_type": "markdown",
   "id": "dbad2402",
   "metadata": {},
   "source": [
    "Research **Objective** - Test four hypotheses:\n",
    "\n",
    "1) The number of children a borrower has impacts their loan repayment.\n",
    "2) The marital status of a borrower affects their loan repayment.\n",
    "3) The income level of a borrower influences their loan repayment.\n",
    "4) Loan purposes have an impact on timely loan repayment.\n",
    "\n",
    "\n",
    "The research will be conducted in three **stages:**\n",
    "\n",
    "- Data overview\n",
    "- Data preprocessing\n",
    "- Hypothesis testing"
   ]
  },
  {
   "cell_type": "markdown",
   "id": "2603aea0",
   "metadata": {},
   "source": [
    "## Data overview"
   ]
  },
  {
   "cell_type": "code",
   "execution_count": 1,
   "id": "a6ca11b2",
   "metadata": {},
   "outputs": [],
   "source": [
    "# Import the pandas library\n",
    "import pandas as pd"
   ]
  },
  {
   "cell_type": "code",
   "execution_count": 2,
   "id": "41069b4b",
   "metadata": {},
   "outputs": [],
   "source": [
    "# Read the data file and store it in the variable data\n",
    "try:\n",
    "    data = pd.read_csv('/datasets/data.csv')\n",
    "except:\n",
    "    data = pd.read_csv('https://code.s3.yandex.net/datasets/data.csv')"
   ]
  },
  {
   "cell_type": "code",
   "execution_count": 3,
   "id": "b20104d1",
   "metadata": {},
   "outputs": [
    {
     "data": {
      "text/html": [
       "<div>\n",
       "<style scoped>\n",
       "    .dataframe tbody tr th:only-of-type {\n",
       "        vertical-align: middle;\n",
       "    }\n",
       "\n",
       "    .dataframe tbody tr th {\n",
       "        vertical-align: top;\n",
       "    }\n",
       "\n",
       "    .dataframe thead th {\n",
       "        text-align: right;\n",
       "    }\n",
       "</style>\n",
       "<table border=\"1\" class=\"dataframe\">\n",
       "  <thead>\n",
       "    <tr style=\"text-align: right;\">\n",
       "      <th></th>\n",
       "      <th>children</th>\n",
       "      <th>days_employed</th>\n",
       "      <th>dob_years</th>\n",
       "      <th>education</th>\n",
       "      <th>education_id</th>\n",
       "      <th>family_status</th>\n",
       "      <th>family_status_id</th>\n",
       "      <th>gender</th>\n",
       "      <th>income_type</th>\n",
       "      <th>debt</th>\n",
       "      <th>total_income</th>\n",
       "      <th>purpose</th>\n",
       "    </tr>\n",
       "  </thead>\n",
       "  <tbody>\n",
       "    <tr>\n",
       "      <th>0</th>\n",
       "      <td>1</td>\n",
       "      <td>-8437.673028</td>\n",
       "      <td>42</td>\n",
       "      <td>высшее</td>\n",
       "      <td>0</td>\n",
       "      <td>женат / замужем</td>\n",
       "      <td>0</td>\n",
       "      <td>F</td>\n",
       "      <td>сотрудник</td>\n",
       "      <td>0</td>\n",
       "      <td>253875.639453</td>\n",
       "      <td>покупка жилья</td>\n",
       "    </tr>\n",
       "    <tr>\n",
       "      <th>1</th>\n",
       "      <td>1</td>\n",
       "      <td>-4024.803754</td>\n",
       "      <td>36</td>\n",
       "      <td>среднее</td>\n",
       "      <td>1</td>\n",
       "      <td>женат / замужем</td>\n",
       "      <td>0</td>\n",
       "      <td>F</td>\n",
       "      <td>сотрудник</td>\n",
       "      <td>0</td>\n",
       "      <td>112080.014102</td>\n",
       "      <td>приобретение автомобиля</td>\n",
       "    </tr>\n",
       "    <tr>\n",
       "      <th>2</th>\n",
       "      <td>0</td>\n",
       "      <td>-5623.422610</td>\n",
       "      <td>33</td>\n",
       "      <td>Среднее</td>\n",
       "      <td>1</td>\n",
       "      <td>женат / замужем</td>\n",
       "      <td>0</td>\n",
       "      <td>M</td>\n",
       "      <td>сотрудник</td>\n",
       "      <td>0</td>\n",
       "      <td>145885.952297</td>\n",
       "      <td>покупка жилья</td>\n",
       "    </tr>\n",
       "    <tr>\n",
       "      <th>3</th>\n",
       "      <td>3</td>\n",
       "      <td>-4124.747207</td>\n",
       "      <td>32</td>\n",
       "      <td>среднее</td>\n",
       "      <td>1</td>\n",
       "      <td>женат / замужем</td>\n",
       "      <td>0</td>\n",
       "      <td>M</td>\n",
       "      <td>сотрудник</td>\n",
       "      <td>0</td>\n",
       "      <td>267628.550329</td>\n",
       "      <td>дополнительное образование</td>\n",
       "    </tr>\n",
       "    <tr>\n",
       "      <th>4</th>\n",
       "      <td>0</td>\n",
       "      <td>340266.072047</td>\n",
       "      <td>53</td>\n",
       "      <td>среднее</td>\n",
       "      <td>1</td>\n",
       "      <td>гражданский брак</td>\n",
       "      <td>1</td>\n",
       "      <td>F</td>\n",
       "      <td>пенсионер</td>\n",
       "      <td>0</td>\n",
       "      <td>158616.077870</td>\n",
       "      <td>сыграть свадьбу</td>\n",
       "    </tr>\n",
       "    <tr>\n",
       "      <th>5</th>\n",
       "      <td>0</td>\n",
       "      <td>-926.185831</td>\n",
       "      <td>27</td>\n",
       "      <td>высшее</td>\n",
       "      <td>0</td>\n",
       "      <td>гражданский брак</td>\n",
       "      <td>1</td>\n",
       "      <td>M</td>\n",
       "      <td>компаньон</td>\n",
       "      <td>0</td>\n",
       "      <td>255763.565419</td>\n",
       "      <td>покупка жилья</td>\n",
       "    </tr>\n",
       "    <tr>\n",
       "      <th>6</th>\n",
       "      <td>0</td>\n",
       "      <td>-2879.202052</td>\n",
       "      <td>43</td>\n",
       "      <td>высшее</td>\n",
       "      <td>0</td>\n",
       "      <td>женат / замужем</td>\n",
       "      <td>0</td>\n",
       "      <td>F</td>\n",
       "      <td>компаньон</td>\n",
       "      <td>0</td>\n",
       "      <td>240525.971920</td>\n",
       "      <td>операции с жильем</td>\n",
       "    </tr>\n",
       "    <tr>\n",
       "      <th>7</th>\n",
       "      <td>0</td>\n",
       "      <td>-152.779569</td>\n",
       "      <td>50</td>\n",
       "      <td>СРЕДНЕЕ</td>\n",
       "      <td>1</td>\n",
       "      <td>женат / замужем</td>\n",
       "      <td>0</td>\n",
       "      <td>M</td>\n",
       "      <td>сотрудник</td>\n",
       "      <td>0</td>\n",
       "      <td>135823.934197</td>\n",
       "      <td>образование</td>\n",
       "    </tr>\n",
       "    <tr>\n",
       "      <th>8</th>\n",
       "      <td>2</td>\n",
       "      <td>-6929.865299</td>\n",
       "      <td>35</td>\n",
       "      <td>ВЫСШЕЕ</td>\n",
       "      <td>0</td>\n",
       "      <td>гражданский брак</td>\n",
       "      <td>1</td>\n",
       "      <td>F</td>\n",
       "      <td>сотрудник</td>\n",
       "      <td>0</td>\n",
       "      <td>95856.832424</td>\n",
       "      <td>на проведение свадьбы</td>\n",
       "    </tr>\n",
       "    <tr>\n",
       "      <th>9</th>\n",
       "      <td>0</td>\n",
       "      <td>-2188.756445</td>\n",
       "      <td>41</td>\n",
       "      <td>среднее</td>\n",
       "      <td>1</td>\n",
       "      <td>женат / замужем</td>\n",
       "      <td>0</td>\n",
       "      <td>M</td>\n",
       "      <td>сотрудник</td>\n",
       "      <td>0</td>\n",
       "      <td>144425.938277</td>\n",
       "      <td>покупка жилья для семьи</td>\n",
       "    </tr>\n",
       "  </tbody>\n",
       "</table>\n",
       "</div>"
      ],
      "text/plain": [
       "   children  days_employed  dob_years education  education_id  \\\n",
       "0         1   -8437.673028         42    высшее             0   \n",
       "1         1   -4024.803754         36   среднее             1   \n",
       "2         0   -5623.422610         33   Среднее             1   \n",
       "3         3   -4124.747207         32   среднее             1   \n",
       "4         0  340266.072047         53   среднее             1   \n",
       "5         0    -926.185831         27    высшее             0   \n",
       "6         0   -2879.202052         43    высшее             0   \n",
       "7         0    -152.779569         50   СРЕДНЕЕ             1   \n",
       "8         2   -6929.865299         35    ВЫСШЕЕ             0   \n",
       "9         0   -2188.756445         41   среднее             1   \n",
       "\n",
       "      family_status  family_status_id gender income_type  debt   total_income  \\\n",
       "0   женат / замужем                 0      F   сотрудник     0  253875.639453   \n",
       "1   женат / замужем                 0      F   сотрудник     0  112080.014102   \n",
       "2   женат / замужем                 0      M   сотрудник     0  145885.952297   \n",
       "3   женат / замужем                 0      M   сотрудник     0  267628.550329   \n",
       "4  гражданский брак                 1      F   пенсионер     0  158616.077870   \n",
       "5  гражданский брак                 1      M   компаньон     0  255763.565419   \n",
       "6   женат / замужем                 0      F   компаньон     0  240525.971920   \n",
       "7   женат / замужем                 0      M   сотрудник     0  135823.934197   \n",
       "8  гражданский брак                 1      F   сотрудник     0   95856.832424   \n",
       "9   женат / замужем                 0      M   сотрудник     0  144425.938277   \n",
       "\n",
       "                      purpose  \n",
       "0               покупка жилья  \n",
       "1     приобретение автомобиля  \n",
       "2               покупка жилья  \n",
       "3  дополнительное образование  \n",
       "4             сыграть свадьбу  \n",
       "5               покупка жилья  \n",
       "6           операции с жильем  \n",
       "7                 образование  \n",
       "8       на проведение свадьбы  \n",
       "9     покупка жилья для семьи  "
      ]
     },
     "execution_count": 3,
     "metadata": {},
     "output_type": "execute_result"
    }
   ],
   "source": [
    "# Get the first 10 rows of the data\n",
    "data.head(10)"
   ]
  },
  {
   "cell_type": "code",
   "execution_count": 4,
   "id": "970a9470",
   "metadata": {},
   "outputs": [
    {
     "name": "stdout",
     "output_type": "stream",
     "text": [
      "<class 'pandas.core.frame.DataFrame'>\n",
      "RangeIndex: 21525 entries, 0 to 21524\n",
      "Data columns (total 12 columns):\n",
      " #   Column            Non-Null Count  Dtype  \n",
      "---  ------            --------------  -----  \n",
      " 0   children          21525 non-null  int64  \n",
      " 1   days_employed     19351 non-null  float64\n",
      " 2   dob_years         21525 non-null  int64  \n",
      " 3   education         21525 non-null  object \n",
      " 4   education_id      21525 non-null  int64  \n",
      " 5   family_status     21525 non-null  object \n",
      " 6   family_status_id  21525 non-null  int64  \n",
      " 7   gender            21525 non-null  object \n",
      " 8   income_type       21525 non-null  object \n",
      " 9   debt              21525 non-null  int64  \n",
      " 10  total_income      19351 non-null  float64\n",
      " 11  purpose           21525 non-null  object \n",
      "dtypes: float64(2), int64(5), object(5)\n",
      "memory usage: 2.0+ MB\n"
     ]
    }
   ],
   "source": [
    "# Get general information about the data\n",
    "data.info()"
   ]
  },
  {
   "cell_type": "markdown",
   "id": "4c474c20",
   "metadata": {},
   "source": [
    "The table consists of 12 columns.The number of values in the columns varies, which indicates that there are missing values in the data."
   ]
  },
  {
   "cell_type": "markdown",
   "id": "626ef36f",
   "metadata": {},
   "source": [
    "## Data Preprocessing"
   ]
  },
  {
   "cell_type": "markdown",
   "id": "33a96969",
   "metadata": {},
   "source": [
    "### Missing Values Removal"
   ]
  },
  {
   "cell_type": "code",
   "execution_count": 5,
   "id": "11370b97",
   "metadata": {},
   "outputs": [
    {
     "data": {
      "text/plain": [
       "children               0\n",
       "days_employed       2174\n",
       "dob_years              0\n",
       "education              0\n",
       "education_id           0\n",
       "family_status          0\n",
       "family_status_id       0\n",
       "gender                 0\n",
       "income_type            0\n",
       "debt                   0\n",
       "total_income        2174\n",
       "purpose                0\n",
       "dtype: int64"
      ]
     },
     "execution_count": 5,
     "metadata": {},
     "output_type": "execute_result"
    }
   ],
   "source": [
    "data.isna().sum()"
   ]
  },
  {
   "cell_type": "markdown",
   "id": "f1dcdccf",
   "metadata": {},
   "source": [
    "In two columns, there are missing values. One of them is 'days_employed'. The missing values in this column will be addressed in the next step. The other column with missing values is 'total_income', which holds income data. Income amount is primarily influenced by employment type, so the missing values in this column will be filled with the median value for each income_type category from the 'income_type' column. For example, for an individual with an employment type of 'employee', the missing value in the 'total_income' column should be filled with the median income among all records with the same employment type."
   ]
  },
  {
   "cell_type": "code",
   "execution_count": 6,
   "id": "cce0e937",
   "metadata": {},
   "outputs": [],
   "source": [
    "for t in data['income_type'].unique():\n",
    "    data.loc[(data['income_type'] == t) & (data['total_income'].isna()), 'total_income'] = \\\n",
    "    data.loc[(data['income_type'] == t), 'total_income'].median()"
   ]
  },
  {
   "cell_type": "markdown",
   "id": "12376826",
   "metadata": {},
   "source": [
    "### Handling Anomalous Values"
   ]
  },
  {
   "cell_type": "markdown",
   "id": "cf8294ae",
   "metadata": {},
   "source": [
    "Let's display the median value of days_employed for each 'income_type', which represents the work experience, in days."
   ]
  },
  {
   "cell_type": "code",
   "execution_count": 7,
   "id": "bc423981",
   "metadata": {},
   "outputs": [
    {
     "data": {
      "text/plain": [
       "income_type\n",
       "безработный        366413.652744\n",
       "в декрете            3296.759962\n",
       "госслужащий          2689.368353\n",
       "компаньон            1547.382223\n",
       "пенсионер          365213.306266\n",
       "предприниматель       520.848083\n",
       "сотрудник            1574.202821\n",
       "студент               578.751554\n",
       "Name: days_employed, dtype: float64"
      ]
     },
     "execution_count": 7,
     "metadata": {},
     "output_type": "execute_result"
    }
   ],
   "source": [
    "data['days_employed'] = data['days_employed'].abs()\n",
    "data.groupby('income_type')['days_employed'].agg('median')"
   ]
  },
  {
   "cell_type": "markdown",
   "id": "482e49a5",
   "metadata": {},
   "source": [
    "For two types (unemployed and retirees), extremely large values will arise. We leave them as they are Moreover, as this column will not be needed for analysis."
   ]
  },
  {
   "cell_type": "code",
   "execution_count": 8,
   "id": "672d7d06",
   "metadata": {},
   "outputs": [
    {
     "data": {
      "text/plain": [
       "array([ 1,  0,  3,  2, -1,  4, 20,  5], dtype=int64)"
      ]
     },
     "execution_count": 8,
     "metadata": {},
     "output_type": "execute_result"
    }
   ],
   "source": [
    "data['children'].unique()"
   ]
  },
  {
   "cell_type": "markdown",
   "id": "547d0b26",
   "metadata": {},
   "source": [
    "In the 'children' column, there are two anomalous values. Let's remove these rows."
   ]
  },
  {
   "cell_type": "code",
   "execution_count": 9,
   "id": "da251395",
   "metadata": {},
   "outputs": [
    {
     "data": {
      "text/plain": [
       "array([1, 0, 3, 2, 4, 5], dtype=int64)"
      ]
     },
     "execution_count": 9,
     "metadata": {},
     "output_type": "execute_result"
    }
   ],
   "source": [
    "data = data[(data['children'] != -1) & (data['children'] != 20)]\n",
    "data['children'].unique()"
   ]
  },
  {
   "cell_type": "markdown",
   "id": "703de968",
   "metadata": {},
   "source": [
    "### Missing Values Removal (Continuation)"
   ]
  },
  {
   "cell_type": "markdown",
   "id": "1acbd8f6",
   "metadata": {},
   "source": [
    "Let's fill in the missing values in the column 'days_employed' with the median values for each 'income_type'."
   ]
  },
  {
   "cell_type": "code",
   "execution_count": 10,
   "id": "f1556b4b",
   "metadata": {},
   "outputs": [
    {
     "data": {
      "text/plain": [
       "children            0\n",
       "days_employed       0\n",
       "dob_years           0\n",
       "education           0\n",
       "education_id        0\n",
       "family_status       0\n",
       "family_status_id    0\n",
       "gender              0\n",
       "income_type         0\n",
       "debt                0\n",
       "total_income        0\n",
       "purpose             0\n",
       "dtype: int64"
      ]
     },
     "execution_count": 10,
     "metadata": {},
     "output_type": "execute_result"
    }
   ],
   "source": [
    "for t in data['income_type'].unique():\n",
    "    data.loc[(data['income_type'] == t) & (data['days_employed'].isna()), 'days_employed'] = \\\n",
    "    data.loc[(data['income_type'] == t), 'days_employed'].median()\n",
    "    \n",
    "data.isna().sum()    "
   ]
  },
  {
   "cell_type": "markdown",
   "id": "dd80cd1f",
   "metadata": {},
   "source": [
    "### Data Type Conversion"
   ]
  },
  {
   "cell_type": "code",
   "execution_count": 11,
   "id": "d56b6683",
   "metadata": {},
   "outputs": [],
   "source": [
    "data['total_income'] = data['total_income'].astype(int)"
   ]
  },
  {
   "cell_type": "markdown",
   "id": "54237312",
   "metadata": {},
   "source": [
    "### Duplicate Data Handling"
   ]
  },
  {
   "cell_type": "code",
   "execution_count": 12,
   "id": "fc4d3710",
   "metadata": {},
   "outputs": [],
   "source": [
    "data['education'] = data['education'].str.lower()"
   ]
  },
  {
   "cell_type": "code",
   "execution_count": 13,
   "id": "7d8ea432",
   "metadata": {},
   "outputs": [
    {
     "data": {
      "text/plain": [
       "71"
      ]
     },
     "execution_count": 13,
     "metadata": {},
     "output_type": "execute_result"
    }
   ],
   "source": [
    "data.duplicated().sum()"
   ]
  },
  {
   "cell_type": "code",
   "execution_count": 14,
   "id": "78df452b",
   "metadata": {},
   "outputs": [],
   "source": [
    "data = data.drop_duplicates()"
   ]
  },
  {
   "cell_type": "markdown",
   "id": "f320c080",
   "metadata": {},
   "source": [
    "### Data Categorization"
   ]
  },
  {
   "cell_type": "markdown",
   "id": "0b1a14bb",
   "metadata": {},
   "source": [
    "Based on the ranges provided below, we will create a column named \"total_income_category\" in the dataframe with the following categories:\n",
    "\n",
    "- 0–30000: 'E'\n",
    "- 30001–50000: 'D'\n",
    "- 50001–200000: 'C'\n",
    "- 200001–1000000: 'B'\n",
    "- 1000001 and above: 'A'."
   ]
  },
  {
   "cell_type": "code",
   "execution_count": 15,
   "id": "75575f45",
   "metadata": {},
   "outputs": [],
   "source": [
    "def categorize_income(income):\n",
    "    try:\n",
    "        if 0 <= income <= 30000:\n",
    "            return 'E'\n",
    "        elif 30001 <= income <= 50000:\n",
    "            return 'D'\n",
    "        elif 50001 <= income <= 200000:\n",
    "            return 'C'\n",
    "        elif 200001 <= income <= 1000000:\n",
    "            return 'B'\n",
    "        elif income >= 1000001:\n",
    "            return 'A'\n",
    "    except:\n",
    "        pass\n",
    "    \n",
    "data['total_income_category'] = data['total_income'].apply(categorize_income)"
   ]
  },
  {
   "cell_type": "code",
   "execution_count": 16,
   "id": "ce2ac6fd",
   "metadata": {},
   "outputs": [
    {
     "data": {
      "text/plain": [
       "array(['покупка жилья', 'приобретение автомобиля',\n",
       "       'дополнительное образование', 'сыграть свадьбу',\n",
       "       'операции с жильем', 'образование', 'на проведение свадьбы',\n",
       "       'покупка жилья для семьи', 'покупка недвижимости',\n",
       "       'покупка коммерческой недвижимости', 'покупка жилой недвижимости',\n",
       "       'строительство собственной недвижимости', 'недвижимость',\n",
       "       'строительство недвижимости', 'на покупку подержанного автомобиля',\n",
       "       'на покупку своего автомобиля',\n",
       "       'операции с коммерческой недвижимостью',\n",
       "       'строительство жилой недвижимости', 'жилье',\n",
       "       'операции со своей недвижимостью', 'автомобили',\n",
       "       'заняться образованием', 'сделка с подержанным автомобилем',\n",
       "       'получение образования', 'автомобиль', 'свадьба',\n",
       "       'получение дополнительного образования', 'покупка своего жилья',\n",
       "       'операции с недвижимостью', 'получение высшего образования',\n",
       "       'свой автомобиль', 'сделка с автомобилем',\n",
       "       'профильное образование', 'высшее образование',\n",
       "       'покупка жилья для сдачи', 'на покупку автомобиля', 'ремонт жилью',\n",
       "       'заняться высшим образованием'], dtype=object)"
      ]
     },
     "execution_count": 16,
     "metadata": {},
     "output_type": "execute_result"
    }
   ],
   "source": [
    "data['purpose'].unique()"
   ]
  },
  {
   "cell_type": "markdown",
   "id": "8dce9e8a",
   "metadata": {},
   "source": [
    "Let's create a function that, based on the data from the \"purpose\" column, will generate a new column called \"purpose_category\" with the following categories:\n",
    "\n",
    "- 'Car-related operations'\n",
    "- 'Real estate operations'\n",
    "- 'Wedding expenses'\n",
    "- 'Education expenses'."
   ]
  },
  {
   "cell_type": "code",
   "execution_count": 17,
   "id": "c53505d1",
   "metadata": {},
   "outputs": [],
   "source": [
    "def categorize_purpose(row):\n",
    "    try:\n",
    "        if 'автом' in row:\n",
    "            return 'операции с автомобилем'\n",
    "        elif 'жил' in row or 'недвиж' in row:\n",
    "            return 'операции с недвижимостью'\n",
    "        elif 'свад' in row:\n",
    "            return 'проведение свадьбы'\n",
    "        elif 'образов' in row:\n",
    "            return 'получение образования'\n",
    "    except:\n",
    "        return 'нет категории'\n",
    "    \n",
    "data['purpose_category'] = data['purpose'].apply(categorize_purpose)"
   ]
  },
  {
   "cell_type": "markdown",
   "id": "10480d16",
   "metadata": {},
   "source": [
    "### Hypothesis Testing"
   ]
  },
  {
   "cell_type": "markdown",
   "id": "5c85b8d6",
   "metadata": {},
   "source": [
    "#### Is there a correlation between the number of children and loan repayment?"
   ]
  },
  {
   "cell_type": "code",
   "execution_count": 18,
   "id": "9f9cd4c8",
   "metadata": {},
   "outputs": [
    {
     "data": {
      "text/plain": [
       "children\n",
       "0    1063\n",
       "1     444\n",
       "2     194\n",
       "3      27\n",
       "4       4\n",
       "5       0\n",
       "Name: debt, dtype: int64"
      ]
     },
     "execution_count": 18,
     "metadata": {},
     "output_type": "execute_result"
    }
   ],
   "source": [
    "# Group the data by the 'children' column, return the 'debt' values, and sum the number of debts\n",
    "children_debt = data.groupby('children')['debt'].sum()  \n",
    "children_debt"
   ]
  },
  {
   "cell_type": "code",
   "execution_count": 19,
   "id": "a22eeb77",
   "metadata": {},
   "outputs": [
    {
     "data": {
      "text/html": [
       "<div>\n",
       "<style scoped>\n",
       "    .dataframe tbody tr th:only-of-type {\n",
       "        vertical-align: middle;\n",
       "    }\n",
       "\n",
       "    .dataframe tbody tr th {\n",
       "        vertical-align: top;\n",
       "    }\n",
       "\n",
       "    .dataframe thead th {\n",
       "        text-align: right;\n",
       "    }\n",
       "</style>\n",
       "<table border=\"1\" class=\"dataframe\">\n",
       "  <thead>\n",
       "    <tr style=\"text-align: right;\">\n",
       "      <th>children</th>\n",
       "      <th>0</th>\n",
       "      <th>1</th>\n",
       "      <th>2</th>\n",
       "      <th>3</th>\n",
       "      <th>4</th>\n",
       "      <th>5</th>\n",
       "    </tr>\n",
       "  </thead>\n",
       "  <tbody>\n",
       "    <tr>\n",
       "      <th>debt</th>\n",
       "      <td>1063</td>\n",
       "      <td>444</td>\n",
       "      <td>194</td>\n",
       "      <td>27</td>\n",
       "      <td>4</td>\n",
       "      <td>0</td>\n",
       "    </tr>\n",
       "  </tbody>\n",
       "</table>\n",
       "</div>"
      ],
      "text/plain": [
       "children     0    1    2   3  4  5\n",
       "debt      1063  444  194  27  4  0"
      ]
     },
     "execution_count": 19,
     "metadata": {},
     "output_type": "execute_result"
    }
   ],
   "source": [
    "# Perform verification using pivot tables\n",
    "data_children_debt_pivot = data.pivot_table(columns='children', values='debt', aggfunc='sum')  \n",
    "data_children_debt_pivot"
   ]
  },
  {
   "cell_type": "code",
   "execution_count": 20,
   "id": "5f14cd28",
   "metadata": {},
   "outputs": [
    {
     "data": {
      "text/plain": [
       "children\n",
       "0    14091\n",
       "1     4808\n",
       "2     2052\n",
       "3      330\n",
       "4       41\n",
       "5        9\n",
       "Name: children, dtype: int64"
      ]
     },
     "execution_count": 20,
     "metadata": {},
     "output_type": "execute_result"
    }
   ],
   "source": [
    "# Determine the distribution of borrowers based on the number of children they have\n",
    "children_amount = data.groupby('children')['children'].count()  \n",
    "children_amount"
   ]
  },
  {
   "cell_type": "code",
   "execution_count": 21,
   "id": "dc7649f9",
   "metadata": {},
   "outputs": [
    {
     "data": {
      "text/plain": [
       "children\n",
       "5    0.000000\n",
       "0    7.543822\n",
       "3    8.181818\n",
       "1    9.234609\n",
       "2    9.454191\n",
       "4    9.756098\n",
       "dtype: float64"
      ]
     },
     "execution_count": 21,
     "metadata": {},
     "output_type": "execute_result"
    }
   ],
   "source": [
    "# Calculate the debt ratio among each category and sort values in ascending order\n",
    "child_debt_ratio = ((children_debt / children_amount) * 100).sort_values()  \n",
    "child_debt_ratio"
   ]
  },
  {
   "cell_type": "markdown",
   "id": "0424f84c",
   "metadata": {},
   "source": [
    "Based on the available data, we cannot conclude that families with children have significantly different delays in loan repayments compared to families without children. The debt ratios are quite close, and slight changes in the sample could lead to different results. In other words, there isn't enough substantial difference between the groups to draw any meaningful conclusions about their significance."
   ]
  },
  {
   "cell_type": "markdown",
   "id": "19b92c3c",
   "metadata": {},
   "source": [
    "#### Is there a correlation between marital status and loan repayment?"
   ]
  },
  {
   "cell_type": "code",
   "execution_count": 22,
   "id": "04a6ab5b",
   "metadata": {},
   "outputs": [
    {
     "data": {
      "text/plain": [
       "family_status\n",
       "вдовец / вдова            63\n",
       "в разводе                 84\n",
       "Не женат / не замужем    273\n",
       "гражданский брак         385\n",
       "женат / замужем          927\n",
       "Name: debt, dtype: int64"
      ]
     },
     "execution_count": 22,
     "metadata": {},
     "output_type": "execute_result"
    }
   ],
   "source": [
    "# Group the data by the 'family_status' column,\n",
    "# return the 'debt' values, sum the number of debts,\n",
    "# and sort in ascending order\n",
    "\n",
    "family_status_debt = data.groupby('family_status')['debt'].sum().sort_values()  \n",
    "family_status_debt"
   ]
  },
  {
   "cell_type": "code",
   "execution_count": 23,
   "id": "bd84c13d",
   "metadata": {},
   "outputs": [
    {
     "data": {
      "text/plain": [
       "family_status\n",
       "вдовец / вдова             951\n",
       "в разводе                 1189\n",
       "Не женат / не замужем     2796\n",
       "гражданский брак          4134\n",
       "женат / замужем          12261\n",
       "Name: family_status, dtype: int64"
      ]
     },
     "execution_count": 23,
     "metadata": {},
     "output_type": "execute_result"
    }
   ],
   "source": [
    "# Determine the distribution of borrowers based on marital status categories\n",
    "family_amount = data.groupby('family_status')['family_status'].count().sort_values()  \n",
    "family_amount"
   ]
  },
  {
   "cell_type": "code",
   "execution_count": 24,
   "id": "c6cce0d7",
   "metadata": {},
   "outputs": [
    {
     "data": {
      "text/plain": [
       "family_status\n",
       "вдовец / вдова           6.624606\n",
       "в разводе                7.064760\n",
       "Не женат / не замужем    9.763948\n",
       "гражданский брак         9.313014\n",
       "женат / замужем          7.560558\n",
       "dtype: float64"
      ]
     },
     "execution_count": 24,
     "metadata": {},
     "output_type": "execute_result"
    }
   ],
   "source": [
    "# Calculate the debt ratio among each marital status category\n",
    "family_ratio = (family_status_debt / family_amount) * 100  \n",
    "family_ratio"
   ]
  },
  {
   "cell_type": "markdown",
   "id": "20550093",
   "metadata": {},
   "source": [
    "The obtained values indicate that the lowest risk of not repaying a loan on time is 6.6% within the \"widowed\" category. The highest risk is 9.8% among borrowers categorized as \"Single\". A similar value (9.3%) is observed among borrowers in the \"civil partnership\" category. Furthermore, approximately equal values (around 7%) correspond to borrowers in the \"divorced\" and \"married\" categories. Therefore, there is no direct correlation between marital status and timely loan repayment."
   ]
  },
  {
   "cell_type": "markdown",
   "id": "06a1cd33",
   "metadata": {},
   "source": [
    "#### Is there a correlation between income level and loan repayment?"
   ]
  },
  {
   "cell_type": "code",
   "execution_count": 25,
   "id": "790e782d",
   "metadata": {},
   "outputs": [
    {
     "data": {
      "text/plain": [
       "total_income_category\n",
       "A       2\n",
       "B     354\n",
       "C    1353\n",
       "D      21\n",
       "E       2\n",
       "Name: debt, dtype: int64"
      ]
     },
     "execution_count": 25,
     "metadata": {},
     "output_type": "execute_result"
    }
   ],
   "source": [
    "# Group the data by the 'total_income_category' column,\n",
    "# return the 'debt' values, sum the number of debts,\n",
    "# and sort based on the index value\n",
    "\n",
    "total_income_category_debt = data.groupby('total_income_category')['debt'].sum().sort_index()  \n",
    "total_income_category_debt"
   ]
  },
  {
   "cell_type": "code",
   "execution_count": 26,
   "id": "74150fe2",
   "metadata": {},
   "outputs": [
    {
     "data": {
      "text/plain": [
       "total_income_category\n",
       "A       25\n",
       "B     5014\n",
       "C    15921\n",
       "D      349\n",
       "E       22\n",
       "Name: total_income_category, dtype: int64"
      ]
     },
     "execution_count": 26,
     "metadata": {},
     "output_type": "execute_result"
    }
   ],
   "source": [
    "# Calculate the count of borrowers based on income level categories\n",
    "income_amount = data.groupby('total_income_category')['total_income_category'].count().sort_index()  \n",
    "income_amount"
   ]
  },
  {
   "cell_type": "code",
   "execution_count": 27,
   "id": "acda9ed1",
   "metadata": {},
   "outputs": [
    {
     "data": {
      "text/plain": [
       "total_income_category\n",
       "A    8.000000\n",
       "B    7.060231\n",
       "C    8.498210\n",
       "D    6.017192\n",
       "E    9.090909\n",
       "dtype: float64"
      ]
     },
     "execution_count": 27,
     "metadata": {},
     "output_type": "execute_result"
    }
   ],
   "source": [
    "# Calculate the debt ratio among each income level category\n",
    "total_income_category_ratio = (total_income_category_debt / income_amount) * 100  \n",
    "total_income_category_ratio"
   ]
  },
  {
   "cell_type": "markdown",
   "id": "55955e05",
   "metadata": {},
   "source": [
    "Based on common sense, it's logical to assume that individuals with lower incomes are more likely to become debtors, as financial difficulties might prevent them from making timely payments. However, when looking at our results, the conclusion is quite different: the sample of borrowers, both with the lowest and the highest incomes, is insufficient to draw definitive conclusions. We might consider that the E-category, with the lowest income, might struggle to manage their finances and therefore enter into credit agreements. However, it remains unclear why the A-category also has a relatively high debt percentage. In general, the conclusions regarding groups A and E are not clear due to the limited amount of data.\n",
    "\n",
    "If we focus our analysis on groups B, C, and D, there is no observable correlation suggesting that \"those who receive higher salaries are more likely to repay loans.\" This makes sense, as financial well-being isn't the sole factor influencing credit history quality."
   ]
  },
  {
   "cell_type": "markdown",
   "id": "246551e0",
   "metadata": {},
   "source": [
    "#### How do different loan purposes affect their repayment?"
   ]
  },
  {
   "cell_type": "code",
   "execution_count": 28,
   "id": "20a47e57",
   "metadata": {},
   "outputs": [
    {
     "data": {
      "text/plain": [
       "purpose_category\n",
       "операции с автомобилем      400\n",
       "операции с недвижимостью    780\n",
       "получение образования       369\n",
       "проведение свадьбы          183\n",
       "Name: debt, dtype: int64"
      ]
     },
     "execution_count": 28,
     "metadata": {},
     "output_type": "execute_result"
    }
   ],
   "source": [
    "# Group the data by the 'purpose_category' column,\n",
    "# return the 'debt' values, sum the number of debts,\n",
    "# and sort based on the index value\n",
    "\n",
    "purpose_category_debt = data.groupby('purpose_category')['debt'].sum().sort_index()  \n",
    "purpose_category_debt"
   ]
  },
  {
   "cell_type": "code",
   "execution_count": 29,
   "id": "9a6f420a",
   "metadata": {},
   "outputs": [
    {
     "data": {
      "text/plain": [
       "purpose_category\n",
       "операции с автомобилем       4279\n",
       "операции с недвижимостью    10751\n",
       "получение образования        3988\n",
       "проведение свадьбы           2313\n",
       "Name: purpose_category, dtype: int64"
      ]
     },
     "execution_count": 29,
     "metadata": {},
     "output_type": "execute_result"
    }
   ],
   "source": [
    "# Calculate the count of borrowers based on loan purpose categories\n",
    "purpose_category_amount = data.groupby('purpose_category')['purpose_category'].count().sort_index()  \n",
    "purpose_category_amount\n"
   ]
  },
  {
   "cell_type": "code",
   "execution_count": 30,
   "id": "c0f73732",
   "metadata": {},
   "outputs": [
    {
     "data": {
      "text/plain": [
       "purpose_category\n",
       "операции с автомобилем      9.347978\n",
       "операции с недвижимостью    7.255139\n",
       "получение образования       9.252758\n",
       "проведение свадьбы          7.911803\n",
       "dtype: float64"
      ]
     },
     "execution_count": 30,
     "metadata": {},
     "output_type": "execute_result"
    }
   ],
   "source": [
    "# Calculate the debt ratio among each loan purpose category\n",
    "purpose_category_ratio = (purpose_category_debt / purpose_category_amount) * 100  \n",
    "purpose_category_ratio"
   ]
  },
  {
   "cell_type": "markdown",
   "id": "12c00dc0",
   "metadata": {},
   "source": [
    "The obtained values indicate that the risk of not repaying a loan on time varies within the range of 7-9%. There is no direct correlation between the purpose of the loan and the presence of debt.\n",
    "Absolutely, the findings align with both the numbers and common sense. People tend to buy cars on credit that are much more expensive than they can afford based on their income (who doesn't dream of a nice car?). On the other hand, individuals are more cautious about risking their mortgage payments. It's interesting that education loans don't follow the same trend – typically, those who take out such loans are motivated individuals with specific goals ahead of them. Moreover, the amounts for such loans, given the online education market, are not as substantial."
   ]
  },
  {
   "cell_type": "markdown",
   "id": "00d23f01",
   "metadata": {},
   "source": [
    "## Conclusion"
   ]
  },
  {
   "cell_type": "markdown",
   "id": "08da7e5b",
   "metadata": {},
   "source": [
    "An investigation of the bank's credit department data was conducted to determine whether marital status and the number of children influence the timely repayment of loans. The research findings will be used in building a credit scoring model, a specialized system that assesses a potential borrower's ability to repay a loan to the bank. The input data from the bank includes statistics on clients' creditworthiness.\n",
    "\n",
    "<b>Research Hypotheses:</b>\n",
    "1) The number of children a borrower has impacts their loan repayment.\n",
    "2) The marital status of a borrower affects their loan repayment.\n",
    "3) The income level of a borrower influences their loan repayment.\n",
    "4) Loan purposes have an impact on timely loan repayment.\n",
    "\n",
    "Based on the research results:\n",
    "\n",
    "<b>Is there a correlation between the number of children and timely loan repayment?</b>\n",
    "\n",
    "children:\n",
    "\n",
    "5    0.000000\n",
    "\n",
    "0    7.543822\n",
    "\n",
    "3    8.181818\n",
    "\n",
    "1    9.234609\n",
    "\n",
    "2    9.454191\n",
    "\n",
    "4    9.756098\n",
    "\n",
    "The obtained values show that the distribution of debtors among borrowers with 1 to 4 children is approximately the same: around 9% of borrowers in these categories did not repay the loan on time. The risk is slightly lower for childless borrowers, with 7% having debt. Borrowers with 5 children have the lowest risk of payment delays.\n",
    "\n",
    "<b>Is there a correlation between marital status and timely loan repayment?</b>\n",
    "\n",
    "family_status:\n",
    "\n",
    "widow           6.624606\n",
    "\n",
    "divorced        7.064760\n",
    "\n",
    "Single          9.763948\n",
    "\n",
    "civil partnership         9.313014\n",
    "\n",
    "married          7.560558\n",
    "\n",
    "The obtained values indicate that the lowest risk of not repaying a loan on time is 6.6% in the \"widow\" category. The highest risk is 9.8% among borrowers categorized as \"Single\". Similar values (around 9.3%) are observed for borrowers in the \"civil partnership\" category. Additionally, roughly equal values (around 7%) correspond to borrowers in the \"divorced\" and \"married\" categories. Therefore, no direct correlation between marital status and timely loan repayment was identified.\n",
    "\n",
    "<b>Is there a correlation between income level and timely loan repayment?</b>\n",
    "\n",
    "total_income_category:\n",
    "\n",
    "A    8.000000\n",
    "\n",
    "B    7.060231\n",
    "\n",
    "C    8.498210\n",
    "\n",
    "D    6.017192\n",
    "\n",
    "E    9.090909\n",
    "\n",
    "Income level distribution by categories:\n",
    "\n",
    "0–30 000 — 'E';\n",
    "\n",
    "30 001–50 000 — 'D';\n",
    "\n",
    "50 001–200 000 — 'C';\n",
    "\n",
    "200001–1 000 000 — 'B';\n",
    "\n",
    "Above 1 000 001 — 'A'.\n",
    "\n",
    "The obtained values indicate that the risk of not repaying a loan on time varies within the range of 6-9%, but there is no direct correlation between income level and debt.\n",
    "\n",
    "<b>How do different loan purposes affect their timely repayment?</b>\n",
    "\n",
    "purpose_category:\n",
    "\n",
    "car purchases      9.347978\n",
    "\n",
    "real estate transactions      7.255139\n",
    "\n",
    "education expenses         9.252758\n",
    "\n",
    "wedding expenses         7.911803\n",
    "\n",
    "The obtained values indicate that the risk of not repaying a loan on time varies within the range of 7-9%, and there is no direct correlation between loan purpose and debt.\n",
    "\n",
    "<b>Overall Conclusion and Recommendations:</b>\n",
    "\n",
    "1) Based on the findings, it can be concluded that there is no direct correlation between the examined categories (number of children, marital status, income level, loan purposes) and timely loan repayment. On average, the risk of non-repayment (or repayment not on time) ranges from 6-10%.\n",
    "\n",
    "2) It is worth checking whether the combination of the examined categories has an impact on the likelihood of timely loan repayment or considering other categories.\n",
    "\n",
    "3) Gathering additional data for these categories is necessary for further hypothesis testing."
   ]
  },
  {
   "cell_type": "code",
   "execution_count": null,
   "id": "8df795a5",
   "metadata": {},
   "outputs": [],
   "source": []
  }
 ],
 "metadata": {
  "kernelspec": {
   "display_name": "Python 3 (ipykernel)",
   "language": "python",
   "name": "python3"
  },
  "language_info": {
   "codemirror_mode": {
    "name": "ipython",
    "version": 3
   },
   "file_extension": ".py",
   "mimetype": "text/x-python",
   "name": "python",
   "nbconvert_exporter": "python",
   "pygments_lexer": "ipython3",
   "version": "3.11.3"
  }
 },
 "nbformat": 4,
 "nbformat_minor": 5
}
